{
  "nbformat": 4,
  "nbformat_minor": 0,
  "metadata": {
    "colab": {
      "provenance": [],
      "include_colab_link": true
    },
    "kernelspec": {
      "name": "python3",
      "display_name": "Python 3"
    },
    "language_info": {
      "name": "python"
    }
  },
  "cells": [
    {
      "cell_type": "markdown",
      "metadata": {
        "id": "view-in-github",
        "colab_type": "text"
      },
      "source": [
        "<a href=\"https://colab.research.google.com/github/gus-p-williams/GWL_mapper/blob/master/docs/unit2/00_intro_python_variables/Starter_Sheet_HW_Introduction_to_Python_and_Variables.ipynb\" target=\"_parent\"><img src=\"https://colab.research.google.com/assets/colab-badge.svg\" alt=\"Open In Colab\"/></a>"
      ]
    },
    {
      "cell_type": "markdown",
      "source": [
        "# Python Program to Compute Flowrate in an Open Channel using Manning's Equation\n",
        "\n",
        "Use this Python program to compute the flowrate in an open channel using Manning's Equation and specified channel cover (for the roughness coefficient), as well as channel geometry.\n",
        "\n",
        "*Note that this notebook has been made so that you can choose English or Metric units. *"
      ],
      "metadata": {
        "id": "o8F2y6XFO8eV"
      }
    },
    {
      "metadata": {
        "id": "5ohGAzcqNjVh"
      },
      "cell_type": "markdown",
      "source": [
        "**Step 3** - Enter your input statements to define your variables here"
      ]
    },
    {
      "metadata": {
        "id": "3wx5dQXrNjVj"
      },
      "cell_type": "code",
      "outputs": [],
      "execution_count": null,
      "source": [
        "\n",
        "\n",
        "\n",
        "\n",
        "\n",
        "\n",
        "\n"
      ]
    },
    {
      "cell_type": "markdown",
      "source": [
        "**Step 4** - Run the following code to process the variables that were input above."
      ],
      "metadata": {
        "id": "yIgN0MUdiLdB"
      }
    },
    {
      "cell_type": "code",
      "execution_count": null,
      "metadata": {
        "id": "4_h9g4hkO0Au"
      },
      "outputs": [],
      "source": [
        "if (units == 'metric' or units == 'Metric'):\n",
        "  u = 1.0\n",
        "elif (units == 'english' or units == 'English'):\n",
        "  u = 1.49\n",
        "else:\n",
        "  print ('Input for Units is not accepted', units)\n",
        "\n",
        "# Determine if this is a trapezoidal channel or a rectangular channel\n",
        "if (T == b):\n",
        "  shape = 'rectangular'\n",
        "else:\n",
        "  shape = 'trapezoidal'\n",
        "\n",
        "# Determine the roughness coefficient, n, using an if statement\n",
        "if (material == 'asphalt'):\n",
        "  n = 0.016\n",
        "elif (material == 'concrete'):\n",
        "  n = 0.012\n",
        "elif (material == 'clean earth'):\n",
        "  n = 0.022\n",
        "elif (material == 'weedy earth'):\n",
        "  n = 0.030\n",
        "elif (material == 'natural stream'):\n",
        "  n = 0.035\n",
        "else:\n",
        "  print ('bad material given:', material)\n"
      ]
    },
    {
      "cell_type": "markdown",
      "source": [
        "## 4.1 Alternate method\n",
        "This is an alternative to a long if-elif list. You don't have to run this block, but can if you want. It does the same thing as lines 14-26 above"
      ],
      "metadata": {
        "id": "mp-XSQSfQO9v"
      }
    },
    {
      "cell_type": "code",
      "source": [
        "# Determine the roughness coefficeint, n, using a dictionary\n",
        "# dictionaries don't rely on order and can be easier to extend later\n",
        "\n",
        "material_dic = {'asphalt':0.016, 'concrete':0.012, 'clean earth':0.022, 'weedy earth':0.030, 'natural stream':0.035}\n",
        "\n",
        "# if material is not in the dictionary, print \"bad material given\"\n",
        "if material not in material_dic:\n",
        "  print ('bad material given:', material)\n",
        "  n= 0\n",
        "else: # set the n value to match the material\n",
        "  n = material_dic[material]\n",
        "\n",
        "print(n)\n"
      ],
      "metadata": {
        "id": "aG_Jr2G_O5U-",
        "outputId": "0bb47ed7-ac45-490c-c98f-75297497f67e",
        "colab": {
          "base_uri": "https://localhost:8080/"
        }
      },
      "execution_count": 8,
      "outputs": [
        {
          "output_type": "stream",
          "name": "stdout",
          "text": [
            "bad material given: asphalts\n",
            "0\n"
          ]
        }
      ]
    },
    {
      "cell_type": "markdown",
      "source": [
        "**Step 5** - Compute cross-sectional area (A)"
      ],
      "metadata": {
        "id": "NMzXAs2KikpB"
      }
    },
    {
      "cell_type": "code",
      "source": [
        "# Compute cross sectional area, A, using an if statement\n",
        "if (shape == 'rectangular'):\n",
        "  # put code for rectangular section here #\n",
        "\n",
        "\n",
        "elif (shape == 'trapezoidal'):\n",
        "  # put code for trapezoidal section here #\n",
        "\n",
        "\n",
        "else:\n",
        "  print ('bad shape given:', shape)"
      ],
      "metadata": {
        "id": "q-V6TH3wijCp"
      },
      "execution_count": null,
      "outputs": []
    },
    {
      "cell_type": "markdown",
      "source": [
        "**Step 6** - Compute wetted perimeter (P)"
      ],
      "metadata": {
        "id": "_qrdNMsGi0ML"
      }
    },
    {
      "cell_type": "code",
      "source": [
        "# Compute the wetted perimeter, P, using an if statement\n",
        "if (shape == 'rectangular'):\n",
        "  # put code for rectangular section here #\n",
        "\n",
        "\n",
        "elif (shape == 'trapezoidal'):\n",
        "  # put code for trapezoidal section here #\n"
      ],
      "metadata": {
        "id": "mDkTds83izqK"
      },
      "execution_count": null,
      "outputs": []
    },
    {
      "cell_type": "markdown",
      "source": [
        "**Step 7** - Compute hydraulic radius (Rh), flow rate (Q), and flow velocity (V) here."
      ],
      "metadata": {
        "id": "WhIJbCKAjQGX"
      }
    },
    {
      "cell_type": "code",
      "source": [
        "# Compute the hydraulic radius, Rh\n",
        "\n",
        "\n",
        "\n",
        "# Now we can compute flow, Q\n",
        "\n",
        "\n",
        "\n",
        "# And finally compute average velocity, V\n",
        "\n",
        "\n",
        "\n"
      ],
      "metadata": {
        "id": "p8AzpXGDjP3b"
      },
      "execution_count": null,
      "outputs": []
    },
    {
      "cell_type": "markdown",
      "source": [
        "**Step 8** - Run this cell to print your results"
      ],
      "metadata": {
        "id": "vYR5jkRhjkBg"
      }
    },
    {
      "cell_type": "code",
      "source": [
        "# Check units to use in the output statements\n",
        "if(units == 'metric'):\n",
        "  print('Flow rate = ', round(Q,3), ' cubic meters per second')\n",
        "  print('Average velocity = ', round(V,3), ' meters per second')\n",
        "elif(units == 'english'):\n",
        "  print('Flow rate = ', round(Q,3), ' cubic feet per second')\n",
        "  print('Average velocity = ', round(V,3), ' feet per second')\n",
        "\n",
        "#For Grader's convienence\n",
        "print(\"u= \", u, \" n= \",n,\" A= \",A,\" P= \",P,\" Rh= \",Rh,\" Q= \",Q,\" V= \",V)"
      ],
      "metadata": {
        "id": "dnAmeGvpjom9"
      },
      "execution_count": null,
      "outputs": []
    }
  ]
}