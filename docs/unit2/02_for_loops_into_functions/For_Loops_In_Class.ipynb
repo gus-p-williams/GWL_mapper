{
  "nbformat": 4,
  "nbformat_minor": 0,
  "metadata": {
    "colab": {
      "provenance": [],
      "include_colab_link": true
    },
    "kernelspec": {
      "name": "python3",
      "display_name": "Python 3"
    },
    "language_info": {
      "name": "python"
    }
  },
  "cells": [
    {
      "cell_type": "markdown",
      "metadata": {
        "id": "view-in-github",
        "colab_type": "text"
      },
      "source": [
        "<a href=\"https://colab.research.google.com/github/gus-p-williams/GWL_mapper/blob/master/docs/unit2/02_for_loops_into_functions/For_Loops_In_Class.ipynb\" target=\"_parent\"><img src=\"https://colab.research.google.com/assets/colab-badge.svg\" alt=\"Open In Colab\"/></a>"
      ]
    },
    {
      "cell_type": "code",
      "execution_count": null,
      "metadata": {
        "id": "1ICbPnV4EvWw"
      },
      "outputs": [],
      "source": [
        "# @title For Loop\n",
        "\n",
        "animals = ['zebra', 'porcupine', 'elephant', 'giraffe']\n",
        "\n",
        "for animal in animals:\n",
        "  print(f\"A {animal.title()} would make a wonderful pet.\")"
      ]
    },
    {
      "cell_type": "code",
      "source": [
        "# In this code block, write your own list of animal names and create a for loop to print all of them."
      ],
      "metadata": {
        "id": "hDGQ78u2-U0Q"
      },
      "execution_count": null,
      "outputs": []
    },
    {
      "cell_type": "code",
      "source": [
        "# @title Nested For Loops\n",
        "adj = [\"large\", \"happy\", \"hungry\", \"quiet\"]\n",
        "animals = [\"zebra\", \"porcupine\", \"elephant\", \"giraffe\"]\n",
        "\n",
        "for adj in adj:\n",
        "  for animal in animals:\n",
        "    print(adj, animal)"
      ],
      "metadata": {
        "id": "_9TMW60JFnXQ"
      },
      "execution_count": null,
      "outputs": []
    },
    {
      "cell_type": "code",
      "source": [
        "# Create your own nested for loop using the lists below\n",
        "adj = [\"sweet\", \"ripe\", \"delicious\"]\n",
        "fruits = [\"pear\", \"mango\", \"kiwi\"]"
      ],
      "metadata": {
        "id": "ZAxJHxB7-g-F"
      },
      "execution_count": null,
      "outputs": []
    },
    {
      "cell_type": "code",
      "source": [
        "# @title For Loop\n",
        "mylist = ['Amy', 'Anne', 'Barbara', 'Bob', 'Clare', 'Clark', 'Jane', 'John', 'Jenny', 'Jerry', 'Joe']\n",
        "\n",
        "myNewList = []\n",
        "\n",
        "for i in mylist:\n",
        "  newItem = i + ' Smith'\n",
        "  myNewList.append(newItem)\n",
        "\n",
        "print(myNewList)"
      ],
      "metadata": {
        "id": "95hVw50KFJ4A",
        "outputId": "e4e3f73a-ef04-4b70-e6d5-9d9ef9ae1a11",
        "colab": {
          "base_uri": "https://localhost:8080/"
        }
      },
      "execution_count": null,
      "outputs": [
        {
          "output_type": "stream",
          "name": "stdout",
          "text": [
            "['Amy Smith', 'Anne Smith', 'Barbara Smith', 'Bob Smith', 'Clare Smith', 'Clark Smith', 'Jane Smith', 'John Smith', 'Jenny Smith', 'Jerry Smith', 'Joe Smith']\n"
          ]
        }
      ]
    },
    {
      "cell_type": "code",
      "source": [
        "# In this code block, write your own for loop using mylist\n",
        "# Also, create a list that tells everyone Hello \"Name\" for each name"
      ],
      "metadata": {
        "id": "0UCqhBex-kx3"
      },
      "execution_count": null,
      "outputs": []
    },
    {
      "cell_type": "code",
      "source": [
        "# working with \"lists of lists\" is similar - you just need to remember you each item in the list is a list\n",
        "names = [[Gus, Williams],\n",
        "      [Norm, Jones],\n",
        "      [Brandon, Williamson]]\n",
        "# you could put the above all on one line, but it is more readable to use multiple lines\n",
        "# python realizes that you haven't completed the instruction, and allows you to have more than one line\n",
        "\n",
        "# print the first list from \"names\"\n",
        "\n",
        "# write a print statement for the first list in names that says\n",
        "# my first name is [fill in the name here] and my last nem is [fill in the name here]\n",
        "\n",
        "\n",
        "# write a loop that goes through the list and prints the statement from above\n",
        "\n",
        "\n",
        "# discuss list of lists in loops\n",
        "# name[0] name[1] versus fname, lname\n",
        "\n"
      ],
      "metadata": {
        "id": "FoGqCAaJE6DQ"
      },
      "execution_count": null,
      "outputs": []
    }
  ]
}