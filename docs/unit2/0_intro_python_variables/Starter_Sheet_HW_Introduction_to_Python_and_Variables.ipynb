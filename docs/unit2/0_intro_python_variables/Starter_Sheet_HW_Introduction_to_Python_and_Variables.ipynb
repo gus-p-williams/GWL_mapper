{
  "nbformat": 4,
  "nbformat_minor": 0,
  "metadata": {
    "colab": {
      "provenance": [],
      "include_colab_link": true
    },
    "kernelspec": {
      "name": "python3",
      "display_name": "Python 3"
    },
    "language_info": {
      "name": "python"
    }
  },
  "cells": [
    {
      "cell_type": "markdown",
      "metadata": {
        "id": "view-in-github",
        "colab_type": "text"
      },
      "source": [
        "<a href=\"https://colab.research.google.com/github/gus-p-williams/GWL_mapper/blob/master/docs/unit2/0_intro_python_variables/Starter_Sheet_HW_Introduction_to_Python_and_Variables.ipynb\" target=\"_parent\"><img src=\"https://colab.research.google.com/assets/colab-badge.svg\" alt=\"Open In Colab\"/></a>"
      ]
    },
    {
      "cell_type": "markdown",
      "source": [
        "# Python Program to Compute Flowrate in an Open Channel using Manning's Equation\n",
        "Use this python program to compute the flowrate in an open channel using Manning's Equation and specified channel cover (for the roughness coefficient), as well as channel geometry.\n",
        "\n",
        "*Note that this notebook has been made so that you can choose English or Metric units. *"
      ],
      "metadata": {
        "id": "o8F2y6XFO8eV"
      }
    },
    {
      "cell_type": "code",
      "execution_count": null,
      "metadata": {
        "id": "4_h9g4hkO0Au"
      },
      "outputs": [],
      "source": [
        "import math\n",
        "\n",
        "################################ Step 3 here ##################################\n",
        "\n",
        "\n",
        "\n",
        "# Some basic conversion of some of the varables you've created.\n",
        "if (units == 'metric' or units == 'Metric'):\n",
        "  u = 1.0\n",
        "elif (units == 'english' or units == 'English'):\n",
        "  u = 1.49\n",
        "else:\n",
        "  print ('Input for Units is not accepted', units)\n",
        "\n",
        "# Determine if this is a trapezoidal channel or a rectangular channel\n",
        "if (T == b):\n",
        "  shape = 'rectangular'\n",
        "else:\n",
        "  shape = 'trapezoidal'\n",
        "\n",
        "# Determine the roughness coefficient, n, using an if statement\n",
        "if (material == 'asphalt'):\n",
        "  n = 0.016\n",
        "elif (material == 'concrete'):\n",
        "  n = 0.012\n",
        "elif (material == 'clean earth'):\n",
        "  n = 0.022\n",
        "elif (material == 'weedy earth'):\n",
        "  n = 0.030\n",
        "elif (material == 'natural stream'):\n",
        "  n = 0.035\n",
        "else:\n",
        "  print ('bad material given:', material)\n",
        "\n",
        "\n",
        "\n",
        "\n",
        "# Compute cross sectional area, A, using an if statement\n",
        "if (shape == 'rectangular'):\n",
        "  ######################### Step 4 ##################### Make sure to add an indentation before it! you will learn why later\n",
        "\n",
        "\n",
        "elif (shape == 'trapezoidal'):\n",
        "  ######################### Step 5 ##################### Make sure to add an indentation before it! you will learn why later\n",
        "\n",
        "\n",
        "else:\n",
        "  print ('bad shape given:', shape)\n",
        "\n",
        "# Compute the wetted perimeter, P, using an if statement\n",
        "if (shape == 'rectangular'):\n",
        "  ######################### Step 6 ##################### Make sure to add an indentation before it! you will learn why later\n",
        "\n",
        "\n",
        "elif (shape == 'trapezoidal'):\n",
        "  ######################### Step 7 ##################### Make sure to add an indentation before it! you will learn why later\n",
        "\n",
        "\n",
        "# Compute the hydraulic radius, Rh\n",
        "######################### Step 8 ##################### No indentation before!\n",
        "\n",
        "\n",
        "# Now we can compute flow, Q\n",
        "######################### Step 9 ##################### No indentation before!\n",
        "\n",
        "\n",
        "# And finally compute average velocity, V\n",
        "######################### Step 10 ##################### No indentation before!\n",
        "\n",
        "\n",
        "# Check units to use in the output statements\n",
        "if(units == 'metric'):\n",
        "  print('Flow rate = ', round(Q,3), ' cubic meters per second')\n",
        "  print('Average velocity = ', round(V,3), ' meters per second')\n",
        "elif(units == 'english'):\n",
        "  print('Flow rate = ', round(Q,3), ' cubic feet per second')\n",
        "  print('Average velocity = ', round(V,3), ' feet per second')\n",
        "\n",
        "#For Grader's convienence\n",
        "print(\"u= \", u, \" n= \",n,\" A= \",A,\" P= \",P,\" Rh= \",Rh,\" Q= \",Q,\" V= \",V)"
      ]
    }
  ]
}