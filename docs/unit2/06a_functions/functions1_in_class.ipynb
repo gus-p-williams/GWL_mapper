{
  "nbformat": 4,
  "nbformat_minor": 0,
  "metadata": {
    "colab": {
      "provenance": [],
      "include_colab_link": true
    },
    "kernelspec": {
      "name": "python3",
      "display_name": "Python 3"
    },
    "language_info": {
      "name": "python"
    }
  },
  "cells": [
    {
      "cell_type": "markdown",
      "metadata": {
        "id": "view-in-github",
        "colab_type": "text"
      },
      "source": [
        "<a href=\"https://colab.research.google.com/github/gus-p-williams/GWL_mapper/blob/master/docs/unit2/06a_functions/functions1_in_class.ipynb\" target=\"_parent\"><img src=\"https://colab.research.google.com/assets/colab-badge.svg\" alt=\"Open In Colab\"/></a>"
      ]
    },
    {
      "cell_type": "markdown",
      "source": [
        "#Functions In-class Part 1\n"
      ],
      "metadata": {
        "id": "eLnJBI18ae5j"
      }
    },
    {
      "cell_type": "markdown",
      "source": [
        "---\n",
        "\n",
        "\n",
        "**Code Block 1**\n",
        "\n",
        "1. Write a function called \"greeting\" that prints \"Hello World!\" whenever called\n",
        "2. Call your greeting function\n",
        "3. Write a more personal function called \"hello\" that requires one parameter and prints \"Hello [name]!\" whenever called\n",
        "4. Create an input statement that asks for the user's name, then call your function\n",
        "5. Modify your \"hello\" function to be called \"welcome\". Have it just ask for the user's name whenver the function is caled. It should still print \"Hello [name]!\" whenever called\n",
        "\n",
        "\n",
        "---"
      ],
      "metadata": {
        "id": "En2lBuXLb4cq"
      }
    },
    {
      "cell_type": "code",
      "source": [],
      "metadata": {
        "id": "Ll3suIc5QCnk"
      },
      "execution_count": null,
      "outputs": []
    },
    {
      "cell_type": "markdown",
      "source": [
        "---\n",
        "\n",
        "\n",
        "**Code Block 2**\n",
        "\n",
        "1. Write a function called \"add\" that takes two parameters, adds them together, and returns the sum\n",
        "2. Write a function called \"sub\" that takes two parameters, subtracts them, and returns the difference\n",
        "3. Write a function called \"mul\" that takes two parameters, multiplies them, and returns the product\n",
        "4. Write a function called \"div\" that takes two parameters, divides them, and returns the quotient\n",
        "5. Write a function called \"sqr\" that takes one parameter, squares it, and returns the result\n",
        "6. Write a function called \"cub\" that takes one parameter, cubes it, and returns the result\n",
        "\n",
        "---"
      ],
      "metadata": {
        "id": "FOuc0N_Zfma0"
      }
    },
    {
      "cell_type": "code",
      "execution_count": null,
      "metadata": {
        "id": "5GoIW6Z_Mkyc"
      },
      "outputs": [],
      "source": []
    },
    {
      "cell_type": "markdown",
      "source": [
        "---\n",
        "\n",
        "\n",
        "**Code Block 3**\n",
        "\n",
        "1. Run this code block to test if your functions above work. If done correctly, it should return an answer of 5.\n",
        "\n",
        "\n",
        "---"
      ],
      "metadata": {
        "id": "SrHE-pyTf494"
      }
    },
    {
      "cell_type": "code",
      "source": [
        "div(add(add(1, 2) + div(cub(8), mul(8,10)) - sqr(sub(cub(3), 99)) - mul(-1, sqr(72)), 0.600000000000364), 2)"
      ],
      "metadata": {
        "id": "QFv4ZVd3f5Ls"
      },
      "execution_count": null,
      "outputs": []
    },
    {
      "cell_type": "markdown",
      "source": [
        "---\n",
        "\n",
        "**Code Block 4**\n",
        "\n",
        "1. Write an updated subtraction function that will take two parameters and will always make the bigger number be subtracted by the smaller number\n",
        "\n",
        "**Ex:** If you enter (5, 28) when calling your function, it will return 28 - 5 or 23\n",
        "\n",
        "---"
      ],
      "metadata": {
        "id": "c9onM41Pdmp4"
      }
    },
    {
      "cell_type": "code",
      "source": [],
      "metadata": {
        "id": "CLH3o5OGNPFk"
      },
      "execution_count": null,
      "outputs": []
    },
    {
      "cell_type": "markdown",
      "source": [
        "---\n",
        "\n",
        "**Code Block 5**\n",
        "\n",
        "Below you will write a function called \"calculate\". This function will\n",
        "put together your 6 functions you wrote earlier. It will take 3 parameters.\n",
        "1. The first will say what operation to do\n",
        "3. The second will be the first numeric input for the calculation\n",
        "3. The last will be the second numeric input and it will be an optional value (because of your cub() and sqr() functions)\n",
        "**Hint:** Set your last variable equal to zero\n",
        "\n",
        "Finally, uncomment all the bottom lines and run the cell to see your function at work!\n",
        "\n",
        "---"
      ],
      "metadata": {
        "id": "5wYiqTWWfKMk"
      }
    },
    {
      "cell_type": "code",
      "source": [
        "\n",
        "\n",
        "\n",
        "#Call your function here\n",
        "# print(calculate(\"sub\", 7, 2))\n",
        "# print(calculate(\"add\", 3, 2))\n",
        "# print(calculate(\"mul\", 2.5, 2))\n",
        "# print(calculate(\"div\", 10, 2))\n",
        "# print(calculate(\"sqr\", 5))\n",
        "# print(calculate(\"cub\", 3))\n",
        "# calculate(\"pizza\", 10)"
      ],
      "metadata": {
        "id": "Yqwpr1rnQSlR"
      },
      "execution_count": null,
      "outputs": []
    },
    {
      "cell_type": "markdown",
      "source": [
        "---\n",
        "\n",
        "\n",
        "**Code Block 6**\n",
        "\n",
        "1. Write your own function that includes one if statement, an elif statement, and an else statement\n",
        "2. Call your function and make sure that it returns your desired result\n",
        "\n",
        "---"
      ],
      "metadata": {
        "id": "aYozHA3uiLhx"
      }
    },
    {
      "cell_type": "code",
      "source": [],
      "metadata": {
        "id": "Gx4oF5dn2yHB"
      },
      "execution_count": null,
      "outputs": []
    },
    {
      "cell_type": "markdown",
      "source": [
        "---\n",
        "\n",
        "**Code Block 7**\n",
        "\n",
        "Below you will write a function called \"inv_info\" that will help the user determine if a store has a particular item in stock.\n",
        "1. Have the function take two parameters (which will be a list of a store's inventory, the second is the item to look for)\n",
        "2. Create an input statement that asks what item the user would like to look up then call the function to see if the item is available.\n",
        "3. In the function, create a for loop that loops through the list of the store's inventory\n",
        "4. Use an if statement to check if the item is in the list; if it is, print a sentence saying how much of that item is available and for what cost. If it isn't, print a sentence saying that the item is not available\n",
        "\n",
        "---"
      ],
      "metadata": {
        "id": "diPnZTsphupw"
      }
    },
    {
      "cell_type": "code",
      "source": [],
      "metadata": {
        "id": "XL1urrBPPx79"
      },
      "execution_count": null,
      "outputs": []
    },
    {
      "cell_type": "markdown",
      "source": [
        "---\n",
        "\n",
        "**Code Block 8**\n",
        "\n",
        "Run this code block below to check if your function above works.\n",
        "\n",
        "---"
      ],
      "metadata": {
        "id": "GW8bZ6CGnXuI"
      }
    },
    {
      "cell_type": "code",
      "source": [
        "inventory = [['apple', 30, '$6.99'], ['pizza', 17, '$9.99'], ['avocado', 660, '$5.49'], ['banana', 53, '$1.49'], ['tree', 4, '$99.49'], [\"pumpkin\", 0, \"$7.99\"]]\n",
        "\n",
        "stop_loop = False\n",
        "while stop_loop == False:\n",
        "  input_item = input(\"What item are you looking for?, Enter 'Q' to quit \")\n",
        "  if input_item == \"Q\":\n",
        "    print(\"Thanks for shopping!\")\n",
        "    stop_loop = True\n",
        "  else:\n",
        "    inv_info(inventory, input_item)"
      ],
      "metadata": {
        "id": "VzUJDkCrnSgP",
        "outputId": "f072326b-47a9-40cb-d45b-45bdbfa8cb5a",
        "colab": {
          "base_uri": "https://localhost:8080/"
        }
      },
      "execution_count": 4,
      "outputs": [
        {
          "output_type": "stream",
          "name": "stdout",
          "text": [
            "What item are you looking for?, Enter 'Q' to quit Q\n",
            "Thanks for shopping!\n"
          ]
        }
      ]
    }
  ]
}